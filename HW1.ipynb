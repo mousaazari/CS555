{
  "cells": [
    {
      "cell_type": "markdown",
      "metadata": {
        "id": "bFa8cjm-2vmv"
      },
      "source": [
        "# $\\;\\;\\;\\;\\;\\;\\;\\;\\;\\;\\;\\;\\;\\;\\;\\;\\;\\;\\;\\;\\;\\;\\;\\;\\;\\;\\;\\;\\;\\;\\;$ <i>HW 1</i>"
      ]
    },
    {
      "cell_type": "markdown",
      "metadata": {
        "id": "OiHngVEc2vmz"
      },
      "source": [
        "#### __Question 1 - Warm up - Read, save and show images__ (5 points)"
      ]
    },
    {
      "cell_type": "markdown",
      "metadata": {
        "id": "RSCrt2TL2vm0"
      },
      "source": [
        "OpenCV is a big and well-known library containing a large set of Computer Vision and Image Processing related functions. In this part of the assignment, you will learn to apply some basic functions of opencv on images.\n",
        "* First read the `Q1.png` and then, reduce its size by dividing its height and width by 3 and display that new resized image (with figure name 'resized image'). You need to save your resized image as `img01_1.jpg`.  \n",
        "\n",
        "* Next, convert your original input image (`Q1.png`) into grayscale and do the same operations (with figure name 'gray and resized image') on the grayscale image and display it.\n",
        "\n",
        "For loading an image on Colab - you can check the following two sites to get ideas:\n",
        "* https://datascience.stackexchange.com/questions/29480/uploading-images-folder-from-my-system-into-google-colab\n",
        "*  https://towardsdatascience.com/the-2-step-guide-to-upload-images-in-google-colab-b51348e882e4\n",
        "\n",
        "\n"
      ]
    },
    {
      "cell_type": "code",
      "execution_count": null,
      "metadata": {
        "id": "m31PHz8C2vm0",
        "scrolled": false
      },
      "outputs": [],
      "source": [
        "\n",
        "#implement and run your python code for Question 1 in this box (here).\n",
        "\n",
        "# You can use the sample code snippet below as a STARTING POINT!\n",
        "# (Feel free to edit or delete the code snippet below!)\n",
        "import cv2 as cv\n",
        "import matplotlib.pylab as plt\n",
        "from google.colab import drive\n",
        "from google.colab.patches import cv2_imshow\n",
        "\n",
        "drive.mount('/content/drive', force_remount=True)\n",
        "# Note: Check the path of the HW1 files first, AFTER uploading them on your own google drive\n",
        "# and replace the path below with the actual one on your own google drive, if it differs.\n",
        "image = cv.imread('/content/drive/My Drive/CS484-CS555/HW1-Spring2021/images/Q1.png')\n",
        "image = cv.resize(image, (500, 300))\n",
        "cv2_imshow(image)\n",
        "\n",
        "\n"
      ]
    },
    {
      "cell_type": "markdown",
      "metadata": {
        "id": "eAGif4yo2vm5"
      },
      "source": [
        "#### __Question 2 - Image histogram__ (10 points)"
      ]
    },
    {
      "cell_type": "markdown",
      "metadata": {
        "id": "mvJi-iPU2vm6"
      },
      "source": [
        "In this part, you will compute and display the histogram of a grayscale image. A histogram is a graph that shows the total number of pixels for each intensity value of an image. It gives you an idea about the intensity distribution of a given image.\n",
        "\n",
        "* Compute and plot the histogram of the following images: `Q1.png`, `Q2.png`, `Q2_2.png`\n",
        "\n",
        "Then compare and **discuss** your results in the text box that was given below the code box.\n",
        "* You must implement the histogram computing part yourself; you can not use any libraries' built-in function to compute the histogram."
      ]
    },
    {
      "cell_type": "code",
      "execution_count": null,
      "metadata": {
        "colab": {
          "base_uri": "https://localhost:8080/",
          "height": 322
        },
        "id": "YpOV_8T42vm6",
        "outputId": "0df6a919-6073-47e7-a821-9257a09685d9"
      },
      "outputs": [
        {
          "data": {
            "image/png": "[encoded data removed]",
            "text/plain": [
              "<Figure size 1080x360 with 3 Axes>"
            ]
          },
          "metadata": {
            "needs_background": "light",
            "tags": []
          },
          "output_type": "display_data"
        }
      ],
      "source": [
        "##put and run your code for Question 2 here\n",
        "\n",
        "# first read the images: Q1.png, Q2.png and Q2_2.png\n",
        "\n",
        "#calculate and plot the histogram of each image (with titles Q1, Q2, Q2_2 respectively), and display their histograms.\n",
        "\n",
        "\n",
        "# You can use the sample code below to COMPARE your own implementation of histogram\n",
        "#____________________\n",
        "im02 = cv.imread('/content/drive/My Drive/CS484-CS555/HW1-Spring2021/images/Q1.png')\n",
        "im03 = cv.imread('/content/drive/My Drive/CS484-CS555/HW1-Spring2021/images/Q2.png')\n",
        "im04 = cv.imread('/content/drive/My Drive/CS484-CS555/HW1-Spring2021/images/Q2_2.png')\n",
        "\n",
        "im02_gray = cv.cvtColor(im02, cv.COLOR_BGR2GRAY)\n",
        "im03_gray = cv.cvtColor(im03, cv.COLOR_BGR2GRAY)\n",
        "im04_gray = cv.cvtColor(im04, cv.COLOR_BGR2GRAY)\n",
        "\n",
        "plt.figure(figsize=([15, 5]))\n",
        "\n",
        "plt.subplot(131), plt.hist(im02_gray.ravel(),bins = 256, range = [0,256])\n",
        "plt.subplot(132), plt.hist(im03_gray.ravel(),bins = 256, range = [0,256])\n",
        "plt.subplot(133), plt.hist(im04_gray.ravel(),bins = 256, range = [0,256])\n",
        "plt.show()\n",
        "\n",
        "\n"
      ]
    },
    {
      "cell_type": "markdown",
      "metadata": {
        "id": "WIVxsNPoXCPn"
      },
      "source": [
        "#### In this cell (in this text box), show and compare all three histograms. Discuss the difference(s) between dark and bright images in terms of histogram.\n",
        "\n",
        "--Double click on this text and discuss your results by typing HERE (in this box) --"
      ]
    },
    {
      "cell_type": "markdown",
      "metadata": {
        "id": "cWBDf2nZ2vnL"
      },
      "source": [
        "#### __Question 3 - Histogram equalization Part A__ (15 points)"
      ]
    },
    {
      "cell_type": "markdown",
      "metadata": {
        "id": "38RX4vzr2vnM"
      },
      "source": [
        "* In this part, you will implement histogram equalization (for a grayscale image) to enhance the contrast in an image. Histogram equalization distributes the existing intensities on an image to a larger range so that all intensity values are used, as much as possible. Use images: `Q2.png` and `Q2_2.png` for this question.\n",
        "\n",
        "* Based on the results you obtain, discuss whether it is a good idea to use histogram equalization on all images in general.\n",
        "\n",
        "* You can not use openCV's (or any other libraries') built-in function to equalize histograms; you need to implement the histogram equalization part by yourself here. Also, you are not allowed to compute the histogram using built-in histogram functions either. You need to use your own implemantation of histogram computing from the previous question.\n",
        "\n",
        "Helpful sites:\n",
        "* https://en.wikipedia.org/wiki/Histogram_equalization\n",
        "* https://www.math.uci.edu/icamp/courses/math77c/demos/hist_eq.pdf\n",
        "* http://www.sci.utah.edu/~acoste/uou/Image/project1/Arthur_COSTE_Project_1_report.html#equalization\n",
        "\n",
        "\n"
      ]
    },
    {
      "cell_type": "code",
      "execution_count": null,
      "metadata": {
        "id": "GQeJSdtG2vnM",
        "scrolled": true
      },
      "outputs": [],
      "source": [
        "# implement and run your code for Question 3a below\n",
        "\n",
        "\n",
        "# display the original grayscale image and the result with titles \"original grayscale image\", \"equalized image\" respectively\n",
        "# display them in subplots, in which the first subplot is original image,\n",
        "# second subplot is the result after applyiny histogram equalization.\n",
        "#_____________________________\n",
        "im2 = cv.imread('/content/drive/My Drive/CS484-CS555/HW1-Spring2021/images/Q2.png')\n",
        "im3 = cv.imread('/content/drive/My Drive/CS484-CS555/HW1-Spring2021/images/Q2_2.png')\n",
        "\n",
        "\n",
        "# Show both images and their histogram equalized versions below\n"
      ]
    },
    {
      "cell_type": "markdown",
      "metadata": {
        "id": "6D1JBxyMPhjb"
      },
      "source": [
        "Discuss here if histogram equalization seems like a good solution for any and all types of images (based on the results you see from the given two images)."
      ]
    },
    {
      "cell_type": "markdown",
      "metadata": {
        "id": "oAMl5vnw2vnP"
      },
      "source": [
        "#### __Question 3 - Histogram equalization Part B__ (5 points)"
      ]
    },
    {
      "cell_type": "markdown",
      "metadata": {
        "id": "RDYxWUPVhmk-"
      },
      "source": [
        "1. In this part, you will compute the histogram equalization again on the same images that you used in the previous part (`Q2.png`, `Q2_2.png`). The only difference is that, this time, you are allowed to use OpenCV's built-in histogram equalization function.\n",
        "\n",
        "2. After you apply the histogram equalization on both images, compare your results with the results obtained in the previous question (Question 3a).\n",
        "\n",
        "* Use subplots for showing the four results together. The first subplot is the result image from part \"a\" for image `Q2.png` with title 'Q2 equalized'. The second subplot is the result from part \"a\" for image `Q2_2.png` with title 'Q2_2 equalized'. The third subplot is the result image from part \"b\" for image `Q2.png` with title 'Q2 equalized OpenCV'. The fourth subplot is the result image from part \"b\" for image `Q2_2.png` with title 'Q2_2 equalized OpenCV'.\n",
        "\n",
        "* Also, plot the histogram of `Q2_2.png` before applying histogram equalization and the histogram of resulting image after applying histogram equalization on the same image. Show both histograms side by side in a single Figure.  \n",
        "\n",
        "Helpful sites:\n",
        "* https://opencv-python-tutroals.readthedocs.io/en/latest/py_tutorials/py_imgproc/py_histograms/py_histogram_equalization/py_histogram_equalization.html"
      ]
    },
    {
      "cell_type": "code",
      "execution_count": null,
      "metadata": {
        "id": "NC-UK5HChmk-"
      },
      "outputs": [],
      "source": [
        "# put and run your code for Question 3b here\n",
        "\n",
        "\n"
      ]
    },
    {
      "cell_type": "code",
      "execution_count": null,
      "metadata": {
        "id": "3gek14Dzwasg"
      },
      "outputs": [],
      "source": []
    },
    {
      "cell_type": "markdown",
      "metadata": {
        "id": "qX872qpP2vnP"
      },
      "source": [
        "#### __Question 4 - Otsu's thresholding__ (15 points)"
      ]
    },
    {
      "cell_type": "markdown",
      "metadata": {
        "id": "HJ9FWfi72vnQ"
      },
      "source": [
        "* Implement automated thresholding by Otsu’s Method. You must use your own implementation and avoid using any image processing libraries (except for reading and plotting images). Your function declaration should take a grayscale image (a 2D matrix) as an input and produce a binary image (also a 2D matrix) of the same dimensions as in the input image. Use the format below:\n",
        "\n",
        "` binary_image = otsu_threshold(source_image)`\n",
        "\n",
        "* Separate the background from the foreground using your implementation of Otsu’s algorithm. Show the binary mask and the original input image side by side. Test your results on both `Q2.png` and `Q2_2.png` files. Discuss your results, are they always perfect? Why so, why not?\n",
        "\n",
        "* Use image: `Q1.png` and after applying Otsu's thresholding on the image,  **show only the clouds** by removing the content of tree from the image (i.e., do not show the actual pixels that belog to a tree). (All the pixels that belong to a tree can be artificially colored with a fix color value).\n",
        "\n",
        "Useful links:\n",
        "\n",
        "* https://en.wikipedia.org/wiki/Otsu%27s_method\n",
        "* http://www.labbookpages.co.uk/software/imgProc/otsuThreshold.html\n",
        "* https://opencv-python-tutroals.readthedocs.io/en/latest/py_tutorials/py_imgproc/py_thresholding/py_thresholding.html\n",
        "\n",
        "\n",
        "\n",
        "\n"
      ]
    },
    {
      "cell_type": "code",
      "execution_count": null,
      "metadata": {
        "colab": {
          "base_uri": "https://localhost:8080/",
          "height": 363
        },
        "id": "Bw8guZT52vnQ",
        "outputId": "ea0dad07-9337-4eb6-d3d6-250b4560570f"
      },
      "outputs": [
        {
          "data": {
            "image/png": "[encoded data removed]",
            "text/plain": [
              "<Figure size 432x288 with 6 Axes>"
            ]
          },
          "metadata": {
            "tags": []
          },
          "output_type": "display_data"
        },
        {
          "data": {
            "image/png": "[encoded data removed]",
            "text/plain": [
              "<PIL.Image.Image image mode=L size=231x172 at 0x7FE42F2FDD68>"
            ]
          },
          "metadata": {
            "tags": []
          },
          "output_type": "display_data"
        }
      ],
      "source": [
        "# implement your function below.\n",
        "\n",
        "\n",
        "\n",
        "\n",
        "\n",
        "# See the OpenCV sample below that computes and compares three different thresholding technique on the same input image.\n",
        "# This code example uses OpenCV's built-in functions. HOWEVER, you need to implement OTSU's technique by yourself.\n",
        "# the first thresholding below is the standard thresholding technique where we enter the threshold values manually,\n",
        "# the second thresholding below is the OTSU's technique.\n",
        "# Change the image path according to your own Google drive structure!\n",
        "img = cv.imread('/content/drive/My Drive/CS484-CS555/HW1-Spring2021/images/Q1.png')\n",
        "img = cv.cvtColor(img, cv.COLOR_BGR2GRAY)\n",
        "# global thresholding\n",
        "ret1,th1 = cv.threshold(img,10,255,cv.THRESH_BINARY)\n",
        "\n",
        "# Otsu's thresholding\n",
        "ret2,th2 = cv.threshold(img,0,255,cv.THRESH_BINARY+cv.THRESH_OTSU)\n",
        "\n",
        "\n",
        "# plot all the images and their histograms\n",
        "images = [img, 0, th1,\n",
        "          img, 0, th2]\n",
        "titles = ['Original Image','Histogram','Manuel Thresholding',\n",
        "          'Original Image','Histogram',\"Otsu's Thresholding\"]\n",
        "\n",
        "plt.imshow(th1,'gray')\n",
        "\n",
        "for i in [0,1]:\n",
        "    plt.subplot(3,3,i*3+1),plt.imshow(images[i*3],'gray')\n",
        "    plt.title(titles[i*3]), plt.xticks([]), plt.yticks([])\n",
        "    plt.subplot(3,3,i*3+2),plt.hist(images[i*3].ravel(),256)\n",
        "    plt.title(titles[i*3+1]), plt.xticks([]), plt.yticks([])\n",
        "    plt.subplot(3,3,i*3+3),plt.imshow(images[i*3+2],'gray')\n",
        "    plt.title(titles[i*3+2]), plt.xticks([]), plt.yticks([])\n",
        "plt.show()\n",
        "\n",
        "#Now lets show the result obtained with Otsu's technique in a larger frame.\n",
        "height, width = th2.shape[:2]\n",
        "th2 = cv.resize(th2, (int(width/4), int(height/4)))\n",
        "cv2_imshow(th2)\n",
        "\n"
      ]
    },
    {
      "cell_type": "code",
      "execution_count": null,
      "metadata": {
        "id": "JuQ-C2jjOlNu"
      },
      "outputs": [],
      "source": [
        "# Here you can test your function on the given binary image and see the result\n",
        "img = cv.imread('/content/drive/My Drive/CS484-CS555/HW1-Spring2021/images/Q1.png')\n",
        "img = cv.cvtColor(img, cv.COLOR_BGR2GRAY)\n",
        "binary_image = otsu_threshold(img)\n",
        "cv2_imshow(binary_image)\n"
      ]
    },
    {
      "cell_type": "markdown",
      "metadata": {
        "id": "p9RU0GxR2vnU"
      },
      "source": [
        "#### __Question 5 - Morphological Operators - Part A: Implement Dilation__ (15 points)"
      ]
    },
    {
      "cell_type": "markdown",
      "metadata": {
        "id": "uFQoW4LD2vnU"
      },
      "source": [
        "In  this section, you will first implement Dilation operator as a function. In your function, you will take two inputs (as matrices): (i) the input image as a matrix and (ii) a structuring element (also as a matrix), and produce a binary image (another matrix) as output. Note that the resulting image matrix should be of the same size as input image matrix. As before, in your function, your methods should be generic, that is it should work with grayscale image and structuring element of any size. Your method declaration should look as follows:\n",
        "\n",
        "`dilated_image = dilation (source_image , structuring_el )`\n",
        "\n",
        "* You should generate the structuring element (kernel) as a binary image with an arbitrary shape (you can use 3 by 3 square matrix with all 1s **for testing**).\n",
        "\n",
        "* Given the structuring element, your code should implement the dilation operation by using the definitions given in the course slides. Note that the structuring element should be created (as a matrix) outside and given as an input to the dilation/erosion codes so that your code can work with any kind of structuring element. You can assume that the origin is in the center, or get the coordinate of the origin as a separate input to your functions."
      ]
    },
    {
      "cell_type": "code",
      "execution_count": null,
      "metadata": {
        "id": "6mylIrTp2vnV"
      },
      "outputs": [],
      "source": [
        "## implement your python function for dilation  here\n",
        "#\n",
        "#"
      ]
    },
    {
      "cell_type": "code",
      "execution_count": null,
      "metadata": {
        "id": "S7Jo1ZhmQsoQ"
      },
      "outputs": [],
      "source": [
        "# test your dilation function here on 3b.png with a 3x3 structuring element (matrix) with all 1s.\n",
        "\n"
      ]
    },
    {
      "cell_type": "markdown",
      "metadata": {
        "id": "POzmfqU2Qx4d"
      },
      "source": [
        "#### __Question 5 - Morphological Operators - Part B: Implement Erosion__ (15 points)"
      ]
    },
    {
      "cell_type": "markdown",
      "metadata": {
        "id": "vAPAkTjiQ3h_"
      },
      "source": [
        "Similar to the previous question, you will also implement a morphological operator here. This time, you will implement Erosion operator as a function. In your function, you will take two inputs (as matrices): (i) the input image as a matrix and (ii) a structuring element (also as a matrix), and produce a binary image (another matrix) as output. Note that the resulting image matrix should be of the same size as input image matrix. As before, in your function, your methods should be generic, that is it should work with grayscale image and structuring element of any size. Your method declaration should look as follows:\n",
        "\n",
        "`eroded_image = erosion ( source_image , structuring_el )`\n",
        "\n",
        "* You should generate the structuring element (kernel) as a binary image with an arbitrary shape (you can use 3 by 3 square matrix with all entries being 1 **for testing**).\n",
        "\n",
        "* Given the structuring element, your code should implement the erosion operation by using the definitions given in the course slides. Note that the structuring element should be created (as a matrix) outside and given as an input to the dilation/erosion codes so that your code can work with any kind of structuring element. You can assume that the origin is in the center, or get the coordinate of the origin as a separate input to your functions."
      ]
    },
    {
      "cell_type": "code",
      "execution_count": null,
      "metadata": {
        "id": "pQUBB7_jRUTw"
      },
      "outputs": [],
      "source": [
        "# implement your erosion operator here\n",
        "#\n",
        "#\n",
        "\n"
      ]
    },
    {
      "cell_type": "code",
      "execution_count": null,
      "metadata": {
        "id": "zPK_e87-Rer4"
      },
      "outputs": [],
      "source": [
        "# test your erosion function here on a binary image with a 3x3 structuring element (matrix) with all 1s.\n",
        "#\n",
        "\n"
      ]
    },
    {
      "cell_type": "markdown",
      "metadata": {
        "id": "OJoYjOxhSjNP"
      },
      "source": [
        "#### __Question 6 - Combine multiple techniques__ (20 points + 10 bonus points = 30 points)"
      ]
    },
    {
      "cell_type": "markdown",
      "metadata": {
        "id": "KyVaA-ObSkKU"
      },
      "source": [
        "In this question, you will use your previously implemented functions. You are provided with 2 gray scale images: `3a.png` and `3b.png` for this question. You are expected to apply a sequence of thresholding, reqion growing and/or morphological operations to segment and count distinct objects in the given image individually.\n",
        "\n",
        "* The first step is to find (by trial and error or by using Otsu’s method), a threshold that will produce a binary image that best separates objects from the background. Please, specify which method you are using and specify why.\n",
        "* The second step is to use the morphological operators (dilation, erosion and their combinations) you have implemented, to help separate objects that are connected together or to fill holes in the objects. Note that you might need to use inverse operation on the binary image of the planes as they are painted in white against black background.\n",
        "* Once you have a decent binary image, use region growing or (connected components labeling) to produce a labeled image that has a distinct label (an integer ID) for each region.\n",
        "* You MUST use your own dilation, erosion and thresholding implementations. You CAN use other sources (such as OpenCV) for arithmetic and logical operators, connected components labeling, region growing, and image I/O. Note that you are NOT allowed to use any operator other than the ones listed above.\n",
        "* Note that you will have to provide analytical justification for the specific sequence of operations performed and what each step achieves. Simply providing a working sequence is not enough. It is also possible that several different sequences achieve desired result, you are encouraged to find and compare them on your own. But report only one such sequence."
      ]
    },
    {
      "cell_type": "code",
      "execution_count": null,
      "metadata": {
        "id": "Wa6eCUamTg-f"
      },
      "outputs": [],
      "source": [
        "## Implement and run your code here\n",
        "\n",
        "\n"
      ]
    },
    {
      "cell_type": "markdown",
      "metadata": {
        "id": "ZPUzqraBThnz"
      },
      "source": [
        "Double click and discuss your techniques and results HERE for Question 6."
      ]
    },
    {
      "cell_type": "markdown",
      "metadata": {
        "id": "gAdqrpCY2vnn"
      },
      "source": [
        "#### Grading"
      ]
    },
    {
      "cell_type": "markdown",
      "metadata": {
        "id": "MeHup0fC2vnn"
      },
      "source": [
        " $\\;\\;\\;\\;\\;\\;\\;\\;\\;\\;\\;$ a $\\;\\;\\;\\;\\;\\;\\;\\;\\;$ b $\\;\\;\\;\\;\\;\\;\\;\\;\\;$ c $\\;\\;\\;\\;\\;\\;\\;\\;\\;$ d  \n",
        "\n",
        "Q1\n",
        "\n",
        "Q2   \n",
        "\n",
        "Q3\n",
        "\n",
        "Q4  \n",
        "\n",
        "Q5  \n",
        "\n",
        "Q6\n",
        "\n",
        "***\n",
        "__Total__: /100"
      ]
    },
    {
      "cell_type": "code",
      "execution_count": null,
      "metadata": {
        "id": "qifBBGzY2vno"
      },
      "outputs": [],
      "source": []
    }
  ],
  "metadata": {
    "colab": {
      "provenance": []
    },
    "kernelspec": {
      "display_name": "Python 3",
      "language": "python",
      "name": "python3"
    },
    "language_info": {
      "codemirror_mode": {
        "name": "ipython",
        "version": 3
      },
      "file_extension": ".py",
      "mimetype": "text/x-python",
      "name": "python",
      "nbconvert_exporter": "python",
      "pygments_lexer": "ipython3",
      "version": "3.7.4"
    }
  },
  "nbformat": 4,
  "nbformat_minor": 0
}